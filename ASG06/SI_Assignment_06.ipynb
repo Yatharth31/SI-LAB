{
  "nbformat": 4,
  "nbformat_minor": 0,
  "metadata": {
    "colab": {
      "provenance": []
    },
    "kernelspec": {
      "name": "python3",
      "display_name": "Python 3"
    },
    "language_info": {
      "name": "python"
    }
  },
  "cells": [
    {
      "cell_type": "markdown",
      "source": [
        "k Fold Cross Validation\n"
      ],
      "metadata": {
        "id": "Si8Qsh5sqJBv"
      }
    },
    {
      "cell_type": "code",
      "execution_count": 19,
      "metadata": {
        "id": "wKXtG381Eafu"
      },
      "outputs": [],
      "source": [
        "import numpy as np\n",
        "import pandas as pd\n",
        "import matplotlib.pyplot as plt\n",
        "from sklearn.datasets import load_wine"
      ]
    },
    {
      "cell_type": "code",
      "source": [
        "X, y = load_wine(return_X_y = True)\n",
        "\n",
        "X = np.array(X)\n",
        "y = np.array(y)"
      ],
      "metadata": {
        "id": "gMZArJb4QARK"
      },
      "execution_count": 20,
      "outputs": []
    },
    {
      "cell_type": "code",
      "source": [
        "print(len(X),len(y))"
      ],
      "metadata": {
        "colab": {
          "base_uri": "https://localhost:8080/"
        },
        "id": "m5c5TnImrn_N",
        "outputId": "d347f5e4-6220-4992-c5b8-6345935489ce"
      },
      "execution_count": 21,
      "outputs": [
        {
          "output_type": "stream",
          "name": "stdout",
          "text": [
            "178 178\n"
          ]
        }
      ]
    },
    {
      "cell_type": "code",
      "source": [
        "from sklearn.model_selection import KFold\n",
        "from sklearn.linear_model import LogisticRegression\n",
        "from sklearn.metrics import accuracy_score"
      ],
      "metadata": {
        "id": "g2k2pmrgrXIb"
      },
      "execution_count": 22,
      "outputs": []
    },
    {
      "cell_type": "code",
      "source": [
        "kf = KFold(n_splits = 10, shuffle = True, random_state = 42)"
      ],
      "metadata": {
        "id": "V88aXiO8rOHV"
      },
      "execution_count": 23,
      "outputs": []
    },
    {
      "cell_type": "code",
      "source": [
        "accuracy_scores = []\n",
        "\n",
        "for k, (train_idx, val_idx) in enumerate(kf.split(X)):\n",
        "  X_train, X_val = X[train_idx], X[val_idx]\n",
        "  y_train, y_val = y[train_idx], y[val_idx]\n",
        "  model = LogisticRegression(solver='liblinear',max_iter=1000, C=0.01)\n",
        "  model.fit(X_train, y_train)\n",
        "\n",
        "  y_pred = model.predict(X_val)\n",
        "  accuracy = accuracy_score(y_val,y_pred)\n",
        "  print(f'Fold: {k+1} Accuracy:{accuracy}%')\n",
        "  accuracy_scores.append(accuracy)"
      ],
      "metadata": {
        "colab": {
          "base_uri": "https://localhost:8080/"
        },
        "id": "93mnc6LirdAy",
        "outputId": "6b8f81fd-385b-4ac0-b6f1-0bfaf5aae739"
      },
      "execution_count": 24,
      "outputs": [
        {
          "output_type": "stream",
          "name": "stdout",
          "text": [
            "Fold: 1 Accuracy:0.9444444444444444%\n",
            "Fold: 2 Accuracy:0.9444444444444444%\n",
            "Fold: 3 Accuracy:1.0%\n",
            "Fold: 4 Accuracy:0.9444444444444444%\n",
            "Fold: 5 Accuracy:0.8888888888888888%\n",
            "Fold: 6 Accuracy:0.9444444444444444%\n",
            "Fold: 7 Accuracy:0.9444444444444444%\n",
            "Fold: 8 Accuracy:0.8333333333333334%\n",
            "Fold: 9 Accuracy:1.0%\n",
            "Fold: 10 Accuracy:0.8235294117647058%\n"
          ]
        }
      ]
    },
    {
      "cell_type": "code",
      "source": [
        "plt.figure(figsize=(8,5))\n",
        "plt.bar(range(1,kf.get_n_splits() + 1), accuracy_scores)\n",
        "plt.xlabel('Fold')\n",
        "plt.ylabel('Accuracy')\n",
        "plt.show()"
      ],
      "metadata": {
        "colab": {
          "base_uri": "https://localhost:8080/",
          "height": 435
        },
        "id": "e1xwFEu8rc-U",
        "outputId": "dc70e0f2-1ea6-4997-feee-d469a8765b7e"
      },
      "execution_count": 25,
      "outputs": [
        {
          "output_type": "display_data",
          "data": {
            "text/plain": [
              "<Figure size 800x500 with 1 Axes>"
            ],
            "image/png": "[encoded data removed]"
          },
          "metadata": {}
        }
      ]
    },
    {
      "cell_type": "code",
      "source": [
        "mean_accuracy = np.mean(accuracy_scores)\n",
        "print(f'Mean Accuracy = {mean_accuracy}')"
      ],
      "metadata": {
        "colab": {
          "base_uri": "https://localhost:8080/"
        },
        "id": "eXIWO7Leu1Ot",
        "outputId": "5e3896bd-ed39-4dce-8095-7ff2f9bbc286"
      },
      "execution_count": 26,
      "outputs": [
        {
          "output_type": "stream",
          "name": "stdout",
          "text": [
            "Mean Accuracy = 0.926797385620915\n"
          ]
        }
      ]
    }
  ]
}